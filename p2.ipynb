{
 "cells": [
  {
   "cell_type": "markdown",
   "metadata": {},
   "source": [
    "# Problem 2"
   ]
  },
  {
   "cell_type": "code",
   "execution_count": null,
   "metadata": {},
   "outputs": [],
   "source": [
    "from sklearn.tree import DecisionTreeClassifier, plot_tree\n",
    "import numpy as np\n",
    "import matplotlib.pyplot as plt\n",
    "from sklearn.datasets import load_iris\n",
    "from sklearn.linear_model import Perceptron\n",
    "from sklearn.metrics import accuracy_score\n",
    "from sklearn import datasets\n",
    "from sklearn import tree\n",
    "from sklearn.tree import _tree"
   ]
  },
  {
   "cell_type": "code",
   "execution_count": null,
   "metadata": {},
   "outputs": [],
   "source": [
    "# ===== Load the Iris dataset ===== #\n",
    "# ===== End of Load the Iris dataset ===== #\n",
    "\n",
    "# ===== Merge classes for binary classification ===== #\n",
    "# ===== End of Merge classes for binary classification ===== #\n",
    "\n",
    "# ===== Splitting data into training and testing sets ===== #\n",
    "# ===== End of Splitting data into training and testing sets ===== #\n",
    "\n",
    "# ===== Train the Decision Tree ===== #\n",
    "# ===== End of Train the Decision Tree ===== #\n",
    "\n",
    "# ===== Plotting the Decision Tree ===== #\n",
    "# ===== End of Plotting the Decision Tree ===== #\n",
    "\n",
    "# ===== Test the decision tree and report test error ===== #\n",
    "# ===== End of Test the decision tree and report test error ===== #\n"
   ]
  },
  {
   "cell_type": "code",
   "execution_count": null,
   "metadata": {},
   "outputs": [],
   "source": [
    "# ===== Build decision tree classifier ===== #\n",
    "# ===== End of Build decision tree classifier ===== #\n",
    "\n",
    "def tree_to_code(tree, feature_names):\n",
    "\t\"\"\"\n",
    "\tOutputs a decision tree model as a Python function\n",
    "\n",
    "\tParameters:\n",
    "\t-----------\n",
    "\ttree: decision tree model\n",
    "\t\tThe decision tree to represent as a function\n",
    "\tfeature_names: list\n",
    "\t\tThe feature names of the dataset used for building the decision tree\n",
    "\t\"\"\"\n",
    "\n",
    "\t# ===== Implement the function ===== #\n",
    "\t# Reference: https://www.kdnuggets.com/2017/05/simplifying-decision-tree-interpretation-decision-rules-python.html\n",
    "\t# ===== End of Implement the function ===== #\n"
   ]
  },
  {
   "cell_type": "code",
   "execution_count": null,
   "metadata": {},
   "outputs": [],
   "source": [
    "# Print the tree\n",
    "tree_to_code(dt, list(iris.feature_names))\n",
    "\n",
    "# ===== Test and report test error ===== #\n",
    "# ===== End of Test and report test error ===== #"
   ]
  }
 ],
 "metadata": {
  "kernelspec": {
   "display_name": "base",
   "language": "python",
   "name": "python3"
  },
  "language_info": {
   "codemirror_mode": {
    "name": "ipython",
    "version": 3
   },
   "file_extension": ".py",
   "mimetype": "text/x-python",
   "name": "python",
   "nbconvert_exporter": "python",
   "pygments_lexer": "ipython3",
   "version": "3.10.11"
  }
 },
 "nbformat": 4,
 "nbformat_minor": 2
}
