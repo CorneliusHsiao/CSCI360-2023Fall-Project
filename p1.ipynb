{
 "cells": [
  {
   "cell_type": "markdown",
   "metadata": {},
   "source": [
    "# Problem 1\n",
    "\n",
    "- You can use the iris dataset that is built in sklearn. Read more about this dataset [here](https://scikit-learn.org/stable/auto_examples/datasets/plot_iris_dataset.html).\n"
   ]
  },
  {
   "cell_type": "code",
   "execution_count": null,
   "metadata": {},
   "outputs": [],
   "source": [
    "from sklearn.datasets import load_iris\n",
    "from sklearn.linear_model import Perceptron\n",
    "from sklearn.metrics import accuracy_score"
   ]
  },
  {
   "cell_type": "code",
   "execution_count": null,
   "metadata": {},
   "outputs": [],
   "source": [
    "train_accuracy, test_accuracy = None, None\n",
    "\n",
    "# ===== Load the Iris dataset ===== #\n",
    "# ===== End of Load the Iris dataset ===== #\n",
    "\n",
    "# ===== Merge classes for binary classification ===== #\n",
    "# ===== End of Merge classes for binary classification ===== #\n",
    "\n",
    "# ===== Splitting data into training and testing sets ===== #\n",
    "# ===== End of Splitting data into training and testing sets ===== #\n",
    "\n",
    "# ===== Training the Perceptron model ===== #\n",
    "# ===== End of Training the Perceptron model ===== #\n",
    "\n",
    "# ===== Predicting and evaluating the model ===== #\n",
    "# ===== End of Predicting and evaluating the model ===== #\n"
   ]
  },
  {
   "cell_type": "code",
   "execution_count": null,
   "metadata": {},
   "outputs": [],
   "source": [
    "print(f\"Training Accuracy: {train_accuracy}\")\n",
    "print(f\"Testing Accuracy: {test_accuracy}\")"
   ]
  }
 ],
 "metadata": {
  "kernelspec": {
   "display_name": "base",
   "language": "python",
   "name": "python3"
  },
  "language_info": {
   "codemirror_mode": {
    "name": "ipython",
    "version": 3
   },
   "file_extension": ".py",
   "mimetype": "text/x-python",
   "name": "python",
   "nbconvert_exporter": "python",
   "pygments_lexer": "ipython3",
   "version": "3.10.11"
  }
 },
 "nbformat": 4,
 "nbformat_minor": 2
}
