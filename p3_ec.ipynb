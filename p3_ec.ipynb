{
 "cells": [
  {
   "cell_type": "markdown",
   "metadata": {},
   "source": [
    "# Problem 3: Feedforward Neural Networks for Regression"
   ]
  },
  {
   "cell_type": "code",
   "execution_count": null,
   "metadata": {},
   "outputs": [],
   "source": [
    "import pandas as pd\n",
    "import numpy as np\n",
    "import matplotlib.pyplot as plt\n",
    "from sklearn.neural_network import MLPRegressor\n",
    "\n",
    "# ===== Optional : import other libraries here ===== #\n",
    "\n",
    "# ===== End of Optional : import other libraries here ===== #"
   ]
  },
  {
   "cell_type": "markdown",
   "metadata": {},
   "source": [
    "## P3(a) Download and load dataset\n",
    "\n",
    "- Download the concrete compressive strength dataset from UCI Machine Learning Repository from [link](http://archive.ics.uci.edu/ml/datasets/Concrete+Compressive+Strength).\n",
    "- Extract and put `Concrete_Data.xls` under directory `data/`.\n",
    "- Pass the code block below to verify download."
   ]
  },
  {
   "cell_type": "code",
   "execution_count": null,
   "metadata": {},
   "outputs": [],
   "source": [
    "df = None\n",
    "try:\n",
    "    df = pd.read_excel('./data/Concrete_Data.xls')\n",
    "    print(f\">>> Available features:\", list(df.columns))\n",
    "    print(f\">>> Example 3 data points: \\n\", df.head(3))\n",
    "except:\n",
    "    raise Warning(f\">>> Your dataset is NOT ready for the next step. Fix this first.\")"
   ]
  },
  {
   "cell_type": "markdown",
   "metadata": {},
   "source": [
    "## P3(b) Split the dataset\n",
    "- Pick the first 730 data points as the training set and the last 300 points as the test set.\n",
    "- Use `Concrete compressive strength(MPa, megapascals) ` column as label (i.e., y).\n",
    "- Your code should pass assertions at the end of code block. Do not proceed before pass."
   ]
  },
  {
   "cell_type": "code",
   "execution_count": null,
   "metadata": {},
   "outputs": [],
   "source": [
    "x_train, y_train, x_test, y_test = None, None, None, None\n",
    "\n",
    "# ===== Split training and test dataset ===== #\n",
    "\n",
    "# ===== End of Split training and test dataset ===== #\n",
    "\n",
    "# Convert to numpy array\n",
    "x_train = x_train.to_numpy()\n",
    "x_test = x_test.to_numpy()\n",
    "y_train = y_train.to_numpy()\n",
    "y_test = y_test.to_numpy()\n",
    "\n",
    "assert(x_train.shape == (730, 8))\n",
    "assert(x_test.shape == (300, 8))\n",
    "assert(y_train.shape == (730,) or (y_train.shape[0] == 730))\n",
    "assert(y_test.shape == (300,) or (y_test.shape[0] == 300))\n",
    "print(f\">>> P3(b) passed.\")"
   ]
  },
  {
   "cell_type": "markdown",
   "metadata": {},
   "source": [
    "## P3(c) Implement a neural network \n",
    "- Use a single layer with `early-stopping=False`.\n",
    "- Use Trial and Error strategy to find the optimal network structure that yields the lowest test error.\n",
    "- Your code should reflect your multiple trials and then report the optimal configurations.\n",
    "- If you encounter warning such as \"ConvergenceWarning\", consider enlarge `max_iter` parameter in `MLPRegressor`."
   ]
  },
  {
   "cell_type": "code",
   "execution_count": null,
   "metadata": {},
   "outputs": [],
   "source": [
    "# ===== Define parameters for trial and error ===== #\n",
    "# We will loop through your defined available settings.\n",
    "# Note that the settings are not limited to below. Feel free to tune other parameters but we won't test below.\n",
    "# Refer to https://scikit-learn.org/stable/modules/generated/sklearn.neural_network.MLPRegressor.html\n",
    "hidden_layer_sizes = [] # example: [(1)], note that it must be single layer\n",
    "activation = [] # example: ['relu'], you need to exhaust this attribute\n",
    "solver = [] # example: ['adam'], you need to exhaust this attribute\n",
    "alpha = [] # example: [1e-3]\n",
    "# ===== End of Define parameters for trial and error ===== #\n",
    "\n",
    "# This is to prevent unaffordable time complexity\n",
    "# If not passed, try eliminate some choices upon submission. You can comment this out during implementation.\n",
    "assert(len(hidden_layer_sizes) * len(activation) * len(solver) * len(alpha) < 500)\n",
    "\n",
    "best_test_error = np.inf\n",
    "best_settings = {\n",
    "    \"hidden_layer_sizes\": None,\n",
    "    \"activation\": None,\n",
    "    \"solver\": None,\n",
    "    \"alpha\": None,\n",
    "    \"batch_size\": None,\n",
    "    \"learning_rate_init\": None\n",
    "}\n",
    "# Loop through parameters\n",
    "for h in hidden_layer_sizes:\n",
    "    for a in activation:\n",
    "        for s in solver:\n",
    "            for al in alpha:\n",
    "                # ===== Implement a network with iterated settings ===== #\n",
    "                # Note: set validation_fraction to 0.1 or leave as default\n",
    "                \n",
    "                # ===== End of Implement a network with iterated settings ===== #\n",
    "                \n",
    "                # ===== Train network ===== #\n",
    "                \n",
    "                # ===== End of Train network ===== #\n",
    "                \n",
    "                # ===== Test network ===== #\n",
    "                \n",
    "                # ===== End of Test network ===== #\n",
    "                \n",
    "                # ===== Compute mean squared error ===== #\n",
    "                \n",
    "                # ===== End of Compute mean squared error ===== #\n",
    "                \n",
    "                # ===== Is it the best setting ===== #\n",
    "                \n",
    "                # ===== End of Is it the best setting ===== #"
   ]
  },
  {
   "cell_type": "code",
   "execution_count": null,
   "metadata": {},
   "outputs": [],
   "source": [
    "# Report best settings\n",
    "print(f\">>> best_test_error={best_test_error}\")\n",
    "print(f\">>> best_settings={best_settings}\")"
   ]
  },
  {
   "cell_type": "markdown",
   "metadata": {},
   "source": [
    "# Extra Credit\n",
    "- `early_stopping=True`\n",
    "- Tune validation rate\n",
    "- Your performance must beat part 3 to receive credits."
   ]
  },
  {
   "cell_type": "code",
   "execution_count": null,
   "metadata": {},
   "outputs": [],
   "source": [
    "# ===== Define parameters for trial and error ===== #\n",
    "# We will loop through your defined available settings.\n",
    "hidden_layer_sizes = [] # example: [(1)], note that it must be single layer\n",
    "activation = [] # example: ['relu'], you need to exhaust this attribute\n",
    "solver = [] # example: ['adam'], you need to exhaust this attribute\n",
    "alpha = [] # example: [1e-3]\n",
    "validation_rate = [] # example: [.1]\n",
    "# ===== End of Define parameters for trial and error ===== #\n",
    "\n",
    "# This is to prevent unaffordable time complexity\n",
    "# If not passed, try eliminate some choices upon submission. You can comment this out during implementation.\n",
    "assert(len(hidden_layer_sizes) * len(activation) * len(solver) * len(alpha) * len(validation_rate) < 1000)\n",
    "\n",
    "best_test_error = np.inf\n",
    "best_settings = {\n",
    "    \"hidden_layer_sizes\": None,\n",
    "    \"activation\": None,\n",
    "    \"solver\": None,\n",
    "    \"alpha\": None,\n",
    "    \"batch_size\": None,\n",
    "    \"learning_rate_init\": None,\n",
    "    \"validation_rate\": None\n",
    "}\n",
    "# Loop through parameters\n",
    "for h in hidden_layer_sizes:\n",
    "    for a in activation:\n",
    "        for s in solver:\n",
    "            for al in alpha:\n",
    "                for v in validation_rate:\n",
    "                    # ===== Implement a network with iterated settings ===== #\n",
    "                    # Note: set validation_fraction to 0.1 or leave as default\n",
    "                    \n",
    "                    # ===== End of Implement a network with iterated settings ===== #\n",
    "                    \n",
    "                    # ===== Train network ===== #\n",
    "                    \n",
    "                    # ===== End of Train network ===== #\n",
    "                    \n",
    "                    # ===== Test network ===== #\n",
    "                    \n",
    "                    # ===== End of Test network ===== #\n",
    "                    \n",
    "                    # ===== Compute mean squared error ===== #\n",
    "                    \n",
    "                    # ===== End of Compute mean squared error ===== #\n",
    "                    \n",
    "                    # ===== Is it the best setting ===== #\n",
    "                    \n",
    "                    # ===== End of Is it the best setting ===== #"
   ]
  },
  {
   "cell_type": "code",
   "execution_count": null,
   "metadata": {},
   "outputs": [],
   "source": [
    "# Report best settings\n",
    "print(f\">>> best_test_error={best_test_error}\")\n",
    "print(f\">>> best_settings={best_settings}\")"
   ]
  }
 ],
 "metadata": {
  "kernelspec": {
   "display_name": "Python 3",
   "language": "python",
   "name": "python3"
  },
  "language_info": {
   "codemirror_mode": {
    "name": "ipython",
    "version": 3
   },
   "file_extension": ".py",
   "mimetype": "text/x-python",
   "name": "python",
   "nbconvert_exporter": "python",
   "pygments_lexer": "ipython3",
   "version": "3.10.11"
  }
 },
 "nbformat": 4,
 "nbformat_minor": 2
}
